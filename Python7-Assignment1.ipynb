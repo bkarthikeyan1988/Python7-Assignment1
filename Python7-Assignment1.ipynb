{
 "cells": [
  {
   "cell_type": "code",
   "execution_count": 1,
   "metadata": {},
   "outputs": [
    {
     "name": "stdout",
     "output_type": "stream",
     "text": [
      "\t    Values  Rolling\n",
      "0        3      NaN\n",
      "1        5     4.00\n",
      "2        7     5.00\n",
      "3        2     4.67\n",
      "4        8     5.67\n",
      "5       10     6.67\n",
      "6       11     9.67\n",
      "7       65    28.67\n",
      "8       72    49.33\n",
      "9       81    72.67\n",
      "10      99    84.00\n",
      "11     100    93.33\n",
      "12     150   116.33\n"
     ]
    }
   ],
   "source": [
    "import numpy as np\n",
    "import pandas as pd\n",
    "df = pd.DataFrame({ 'Values':[3, 5, 7, 2, 8, 10, 11, 65, 72, 81, 99, 100, 150]})\n",
    "\n",
    "df['Rolling'] = df.rolling(window=3, min_periods=2).mean().round(decimals=2)\n",
    "\n",
    "print(\"\\t\" + str(df))"
   ]
  },
  {
   "cell_type": "code",
   "execution_count": null,
   "metadata": {},
   "outputs": [],
   "source": []
  }
 ],
 "metadata": {
  "kernelspec": {
   "display_name": "Python 3",
   "language": "python",
   "name": "python3"
  },
  "language_info": {
   "codemirror_mode": {
    "name": "ipython",
    "version": 3
   },
   "file_extension": ".py",
   "mimetype": "text/x-python",
   "name": "python",
   "nbconvert_exporter": "python",
   "pygments_lexer": "ipython3",
   "version": "3.6.4"
  }
 },
 "nbformat": 4,
 "nbformat_minor": 2
}
